{
 "cells": [
  {
   "cell_type": "code",
   "execution_count": 26,
   "metadata": {},
   "outputs": [],
   "source": [
    "import tensorflow as tf\n",
    "import tensorflow_hub as hub\n",
    "import os\n",
    "from typing import Tuple"
   ]
  },
  {
   "cell_type": "code",
   "execution_count": 27,
   "metadata": {},
   "outputs": [],
   "source": [
    "train_dir = 'dataset/train'\n",
    "test_dir = 'dataset/test'"
   ]
  },
  {
   "cell_type": "code",
   "execution_count": 62,
   "metadata": {},
   "outputs": [],
   "source": [
    "BATCH_SIZE = 18\n",
    "IMG_HEIGHT = 144\n",
    "IMG_WIDTH = 144"
   ]
  },
  {
   "cell_type": "code",
   "execution_count": 64,
   "metadata": {},
   "outputs": [
    {
     "name": "stdout",
     "output_type": "stream",
     "text": [
      "Found 24525 images belonging to 25 classes.\n",
      "Found 6122 images belonging to 25 classes.\n",
      "Found 250 images belonging to 25 classes.\n"
     ]
    }
   ],
   "source": [
    "train_datagen = tf.keras.preprocessing.image.ImageDataGenerator(validation_split=0.2, rescale=1./255,rotation_range=60)\n",
    "\n",
    "train_data = train_datagen.flow_from_directory(\n",
    "        train_dir,  shuffle=True, color_mode=\"rgb\", class_mode=\"categorical\",subset='training',\n",
    "        target_size=(IMG_WIDTH,IMG_HEIGHT), batch_size=BATCH_SIZE)\n",
    "    \n",
    "validation_data = train_datagen.flow_from_directory( train_dir,\n",
    "        shuffle=True, color_mode=\"rgb\", class_mode=\"categorical\",subset='validation',\n",
    "        target_size=(IMG_WIDTH,IMG_HEIGHT), batch_size=BATCH_SIZE)\n"
   ]
  },
  {
   "cell_type": "code",
   "execution_count": 79,
   "metadata": {},
   "outputs": [
    {
     "name": "stdout",
     "output_type": "stream",
     "text": [
      "Found 250 images belonging to 25 classes.\n"
     ]
    }
   ],
   "source": [
    "valid_datagen = tf.keras.preprocessing.image.ImageDataGenerator(rescale=1./255,rotation_range=60)\n",
    "\n",
    "test_data = valid_datagen.flow_from_directory(test_dir, shuffle=False, color_mode=\"rgb\", class_mode=\"categorical\",\n",
    "        target_size=(IMG_WIDTH,IMG_HEIGHT))"
   ]
  },
  {
   "cell_type": "code",
   "execution_count": 65,
   "metadata": {},
   "outputs": [],
   "source": [
    "INCEPTIONV3_TFHUB = 'https://tfhub.dev/google/tf2-preview/inception_v3/feature_vector/4'"
   ]
  },
  {
   "cell_type": "code",
   "execution_count": 66,
   "metadata": {},
   "outputs": [],
   "source": [
    "input_shape = (IMG_WIDTH, IMG_HEIGHT, 3)\n",
    "num_classes = 25\n",
    "\n",
    "# fetch the feature extractor from the tf_hub\n",
    "feature_extractor = hub.KerasLayer(INCEPTIONV3_TFHUB, input_shape=input_shape)\n",
    "\n",
    "# make the feature extractor trainable\n",
    "feature_extractor.trainable = True\n",
    "\n",
    "# create the sequential model\n",
    "model = tf.keras.Sequential([\n",
    "    feature_extractor,\n",
    "    tf.keras.layers.Flatten(),\n",
    "    # tf.keras.layers.Dense(1024, activation='relu'),\n",
    "    tf.keras.layers.Dense(num_classes, activation='softmax', kernel_regularizer=tf.keras.regularizers.l2(0.0005))\n",
    "])"
   ]
  },
  {
   "cell_type": "code",
   "execution_count": 68,
   "metadata": {},
   "outputs": [
    {
     "name": "stdout",
     "output_type": "stream",
     "text": [
      "Model: \"sequential_8\"\n",
      "_________________________________________________________________\n",
      " Layer (type)                Output Shape              Param #   \n",
      "=================================================================\n",
      " keras_layer_6 (KerasLayer)  (None, 2048)              21802784  \n",
      "                                                                 \n",
      " flatten_6 (Flatten)         (None, 2048)              0         \n",
      "                                                                 \n",
      " dense_9 (Dense)             (None, 25)                51225     \n",
      "                                                                 \n",
      "=================================================================\n",
      "Total params: 21,854,009\n",
      "Trainable params: 21,819,577\n",
      "Non-trainable params: 34,432\n",
      "_________________________________________________________________\n"
     ]
    }
   ],
   "source": [
    "# print the summary of the model\n",
    "model.summary()"
   ]
  },
  {
   "cell_type": "code",
   "execution_count": 69,
   "metadata": {},
   "outputs": [],
   "source": [
    "# compile the model\n",
    "model.compile(\n",
    "    optimizer=tf.keras.optimizers.SGD(learning_rate=0.005, momentum=0.9),\n",
    "    loss='categorical_crossentropy',\n",
    "    metrics=['accuracy']\n",
    ")"
   ]
  },
  {
   "cell_type": "code",
   "execution_count": 70,
   "metadata": {},
   "outputs": [
    {
     "name": "stdout",
     "output_type": "stream",
     "text": [
      "Epoch 1/2\n",
      "1362/1362 [==============================] - 162s 113ms/step - loss: 0.7788 - accuracy: 0.8406 - val_loss: 0.4971 - val_accuracy: 0.9198\n",
      "Epoch 2/2\n",
      "1362/1362 [==============================] - 148s 109ms/step - loss: 0.4474 - accuracy: 0.9380 - val_loss: 0.3573 - val_accuracy: 0.9685\n"
     ]
    }
   ],
   "source": [
    "# train the model\n",
    "history = model.fit(\n",
    "    train_data,\n",
    "    epochs=2,\n",
    "    steps_per_epoch=train_data.samples//train_data.batch_size,\n",
    "    validation_data=validation_data,\n",
    ")"
   ]
  },
  {
   "cell_type": "code",
   "execution_count": 71,
   "metadata": {},
   "outputs": [
    {
     "name": "stdout",
     "output_type": "stream",
     "text": [
      "8/8 [==============================] - 3s 243ms/step - loss: 0.3710 - accuracy: 0.9720\n"
     ]
    }
   ],
   "source": [
    "# evaluate the model\n",
    "loss, accuracy = model.evaluate(test_data)\n",
    "# train accuracy\n",
    "# train_loss, train_accuracy = model.evaluate(train_data)"
   ]
  },
  {
   "cell_type": "code",
   "execution_count": null,
   "metadata": {},
   "outputs": [],
   "source": [
    "from tensorflow.python.client import device_lib\n",
    "print(device_lib.list_local_devices())"
   ]
  },
  {
   "cell_type": "code",
   "execution_count": 98,
   "metadata": {},
   "outputs": [
    {
     "name": "stdout",
     "output_type": "stream",
     "text": [
      "INFO:tensorflow:Assets written to: models/20220405_1907\\assets\n"
     ]
    },
    {
     "name": "stderr",
     "output_type": "stream",
     "text": [
      "INFO:tensorflow:Assets written to: models/20220405_1907\\assets\n"
     ]
    }
   ],
   "source": [
    "model.save(\"models/20220405_1907\")"
   ]
  },
  {
   "cell_type": "code",
   "execution_count": 101,
   "metadata": {},
   "outputs": [],
   "source": [
    "json_path = \"models/final_model.json\"\n",
    "h5_path = \"models/final_model.h5\"\n",
    "# serialize model to JSON\n",
    "model_json = model.to_json()\n",
    "with open(json_path, \"w\") as json_file:\n",
    "    json_file.write(model_json)\n",
    "# serialize weights to HDF5\n",
    "model.save_weights(h5_path)"
   ]
  },
  {
   "cell_type": "code",
   "execution_count": 104,
   "metadata": {
    "scrolled": true
   },
   "outputs": [
    {
     "name": "stdout",
     "output_type": "stream",
     "text": [
      "Loaded model from disk\n",
      "accuracy: 96.40%\n"
     ]
    }
   ],
   "source": [
    "# load json and create model\n",
    "json_file = open(json_path, 'r')\n",
    "loaded_model_json = json_file.read()\n",
    "json_file.close()\n",
    "loaded_model = tf.keras.models.model_from_json(loaded_model_json, custom_objects={'KerasLayer':hub.KerasLayer})\n",
    "# load weights into new model\n",
    "loaded_model.load_weights(h5_path)\n",
    "print(\"Loaded model from disk\")\n",
    " \n",
    "# evaluate loaded model on test data\n",
    "loaded_model.compile(\n",
    "    optimizer=tf.keras.optimizers.SGD(learning_rate=0.005, momentum=0.9),\n",
    "    loss='categorical_crossentropy',\n",
    "    metrics=['accuracy']\n",
    ")\n",
    "score = loaded_model.evaluate(test_data, verbose=0)\n",
    "print(\"%s: %.2f%%\" % (loaded_model.metrics_names[1], score[1]*100))"
   ]
  },
  {
   "cell_type": "code",
   "execution_count": 74,
   "metadata": {},
   "outputs": [],
   "source": [
    "import matplotlib.pyplot as plt\n",
    "import numpy as np"
   ]
  },
  {
   "cell_type": "code",
   "execution_count": 80,
   "metadata": {},
   "outputs": [],
   "source": [
    "predictions = model.predict(test_data)"
   ]
  },
  {
   "cell_type": "code",
   "execution_count": 83,
   "metadata": {},
   "outputs": [],
   "source": [
    "y_pred= np.argmax(predictions, axis=1)"
   ]
  },
  {
   "cell_type": "code",
   "execution_count": 84,
   "metadata": {},
   "outputs": [],
   "source": [
    "y_true = test_data.labels"
   ]
  },
  {
   "cell_type": "code",
   "execution_count": 89,
   "metadata": {},
   "outputs": [
    {
     "data": {
      "text/plain": [
       "array([10,  9, 10, 10,  8, 10, 10, 10, 10, 10, 10, 10, 10, 10, 10,  9,  9,\n",
       "       10,  8, 10,  9,  9, 10,  9, 10], dtype=int64)"
      ]
     },
     "execution_count": 89,
     "metadata": {},
     "output_type": "execute_result"
    }
   ],
   "source": [
    "from sklearn.metrics import confusion_matrix\n",
    "matrix = confusion_matrix(y_true, y_pred, labels=range(0,25))\n",
    "matrix.diagonal()"
   ]
  },
  {
   "cell_type": "code",
   "execution_count": 90,
   "metadata": {},
   "outputs": [
    {
     "name": "stdout",
     "output_type": "stream",
     "text": [
      "precision: [0.90909091 1.         1.         1.         1.         1.\n",
      " 1.         0.83333333 1.         1.         1.         1.\n",
      " 1.         1.         1.         0.9        0.69230769 1.\n",
      " 0.88888889 1.         1.         0.9        1.         1.\n",
      " 1.        ]\n",
      "recall: [1.  0.9 1.  1.  0.8 1.  1.  1.  1.  1.  1.  1.  1.  1.  1.  0.9 0.9 1.\n",
      " 0.8 1.  0.9 0.9 1.  0.9 1. ]\n",
      "fscore: [0.95238095 0.94736842 1.         1.         0.88888889 1.\n",
      " 1.         0.90909091 1.         1.         1.         1.\n",
      " 1.         1.         1.         0.9        0.7826087  1.\n",
      " 0.84210526 1.         0.94736842 0.9        1.         0.94736842\n",
      " 1.        ]\n",
      "support: [10 10 10 10 10 10 10 10 10 10 10 10 10 10 10 10 10 10 10 10 10 10 10 10\n",
      " 10]\n"
     ]
    }
   ],
   "source": [
    "from sklearn.metrics import precision_recall_fscore_support as score\n",
    "\n",
    "precision, recall, fscore, support = score(y_true, y_pred)\n"
   ]
  },
  {
   "cell_type": "code",
   "execution_count": 91,
   "metadata": {},
   "outputs": [],
   "source": [
    "classes= [\"Apple Black Rot\", \"Apple Cedar Apple Rust\", \"Apple Healthy\", \"Apple Scab\", \"Corn Maize Cercospora Leaf Spot Gray Leaf Spot\", \"Corn Maize Common Rust\", \"Corn Maize Healthy\", \"Corn Maize Northern Leaf Blight\", \"Grape Black Rot\", \"Grape Esca Black Measles\", \"Grape Healthy\", \"Grape Leaf Blight Isariopsis Leaf Spot\", \"Potato Early Blight\", \"Potato Healthy\", \"Potato Late Blight\", \"Tomato Bacterial Spot\", \"Tomato Early Blight\", \"Tomato Healthy\", \"Tomato Late Blight\", \"Tomato Leaf Mold\", \"Tomato Mosaic Virus\", \"Tomato Septoria Leaf Spot\", \"Tomato Spider Mites Two-Spotted Spider Mite\", \"Tomato Target Spot\", \"Tomato Yellow Leaf Curl Virus\"]"
   ]
  },
  {
   "cell_type": "code",
   "execution_count": 92,
   "metadata": {},
   "outputs": [],
   "source": [
    "import pandas as pd"
   ]
  },
  {
   "cell_type": "code",
   "execution_count": 94,
   "metadata": {
    "scrolled": false
   },
   "outputs": [
    {
     "data": {
      "text/html": [
       "<div>\n",
       "<style scoped>\n",
       "    .dataframe tbody tr th:only-of-type {\n",
       "        vertical-align: middle;\n",
       "    }\n",
       "\n",
       "    .dataframe tbody tr th {\n",
       "        vertical-align: top;\n",
       "    }\n",
       "\n",
       "    .dataframe thead th {\n",
       "        text-align: right;\n",
       "    }\n",
       "</style>\n",
       "<table border=\"1\" class=\"dataframe\">\n",
       "  <thead>\n",
       "    <tr style=\"text-align: right;\">\n",
       "      <th></th>\n",
       "      <th>Class</th>\n",
       "      <th>Precision</th>\n",
       "      <th>Recall</th>\n",
       "      <th>Fscore</th>\n",
       "      <th>Support</th>\n",
       "    </tr>\n",
       "  </thead>\n",
       "  <tbody>\n",
       "    <tr>\n",
       "      <th>0</th>\n",
       "      <td>Apple Black Rot</td>\n",
       "      <td>0.909091</td>\n",
       "      <td>1.0</td>\n",
       "      <td>0.952381</td>\n",
       "      <td>10</td>\n",
       "    </tr>\n",
       "    <tr>\n",
       "      <th>1</th>\n",
       "      <td>Apple Cedar Apple Rust</td>\n",
       "      <td>1.000000</td>\n",
       "      <td>0.9</td>\n",
       "      <td>0.947368</td>\n",
       "      <td>10</td>\n",
       "    </tr>\n",
       "    <tr>\n",
       "      <th>2</th>\n",
       "      <td>Apple Healthy</td>\n",
       "      <td>1.000000</td>\n",
       "      <td>1.0</td>\n",
       "      <td>1.000000</td>\n",
       "      <td>10</td>\n",
       "    </tr>\n",
       "    <tr>\n",
       "      <th>3</th>\n",
       "      <td>Apple Scab</td>\n",
       "      <td>1.000000</td>\n",
       "      <td>1.0</td>\n",
       "      <td>1.000000</td>\n",
       "      <td>10</td>\n",
       "    </tr>\n",
       "    <tr>\n",
       "      <th>4</th>\n",
       "      <td>Corn Maize Cercospora Leaf Spot Gray Leaf Spot</td>\n",
       "      <td>1.000000</td>\n",
       "      <td>0.8</td>\n",
       "      <td>0.888889</td>\n",
       "      <td>10</td>\n",
       "    </tr>\n",
       "    <tr>\n",
       "      <th>5</th>\n",
       "      <td>Corn Maize Common Rust</td>\n",
       "      <td>1.000000</td>\n",
       "      <td>1.0</td>\n",
       "      <td>1.000000</td>\n",
       "      <td>10</td>\n",
       "    </tr>\n",
       "    <tr>\n",
       "      <th>6</th>\n",
       "      <td>Corn Maize Healthy</td>\n",
       "      <td>1.000000</td>\n",
       "      <td>1.0</td>\n",
       "      <td>1.000000</td>\n",
       "      <td>10</td>\n",
       "    </tr>\n",
       "    <tr>\n",
       "      <th>7</th>\n",
       "      <td>Corn Maize Northern Leaf Blight</td>\n",
       "      <td>0.833333</td>\n",
       "      <td>1.0</td>\n",
       "      <td>0.909091</td>\n",
       "      <td>10</td>\n",
       "    </tr>\n",
       "    <tr>\n",
       "      <th>8</th>\n",
       "      <td>Grape Black Rot</td>\n",
       "      <td>1.000000</td>\n",
       "      <td>1.0</td>\n",
       "      <td>1.000000</td>\n",
       "      <td>10</td>\n",
       "    </tr>\n",
       "    <tr>\n",
       "      <th>9</th>\n",
       "      <td>Grape Esca Black Measles</td>\n",
       "      <td>1.000000</td>\n",
       "      <td>1.0</td>\n",
       "      <td>1.000000</td>\n",
       "      <td>10</td>\n",
       "    </tr>\n",
       "    <tr>\n",
       "      <th>10</th>\n",
       "      <td>Grape Healthy</td>\n",
       "      <td>1.000000</td>\n",
       "      <td>1.0</td>\n",
       "      <td>1.000000</td>\n",
       "      <td>10</td>\n",
       "    </tr>\n",
       "    <tr>\n",
       "      <th>11</th>\n",
       "      <td>Grape Leaf Blight Isariopsis Leaf Spot</td>\n",
       "      <td>1.000000</td>\n",
       "      <td>1.0</td>\n",
       "      <td>1.000000</td>\n",
       "      <td>10</td>\n",
       "    </tr>\n",
       "    <tr>\n",
       "      <th>12</th>\n",
       "      <td>Potato Early Blight</td>\n",
       "      <td>1.000000</td>\n",
       "      <td>1.0</td>\n",
       "      <td>1.000000</td>\n",
       "      <td>10</td>\n",
       "    </tr>\n",
       "    <tr>\n",
       "      <th>13</th>\n",
       "      <td>Potato Healthy</td>\n",
       "      <td>1.000000</td>\n",
       "      <td>1.0</td>\n",
       "      <td>1.000000</td>\n",
       "      <td>10</td>\n",
       "    </tr>\n",
       "    <tr>\n",
       "      <th>14</th>\n",
       "      <td>Potato Late Blight</td>\n",
       "      <td>1.000000</td>\n",
       "      <td>1.0</td>\n",
       "      <td>1.000000</td>\n",
       "      <td>10</td>\n",
       "    </tr>\n",
       "    <tr>\n",
       "      <th>15</th>\n",
       "      <td>Tomato Bacterial Spot</td>\n",
       "      <td>0.900000</td>\n",
       "      <td>0.9</td>\n",
       "      <td>0.900000</td>\n",
       "      <td>10</td>\n",
       "    </tr>\n",
       "    <tr>\n",
       "      <th>16</th>\n",
       "      <td>Tomato Early Blight</td>\n",
       "      <td>0.692308</td>\n",
       "      <td>0.9</td>\n",
       "      <td>0.782609</td>\n",
       "      <td>10</td>\n",
       "    </tr>\n",
       "    <tr>\n",
       "      <th>17</th>\n",
       "      <td>Tomato Healthy</td>\n",
       "      <td>1.000000</td>\n",
       "      <td>1.0</td>\n",
       "      <td>1.000000</td>\n",
       "      <td>10</td>\n",
       "    </tr>\n",
       "    <tr>\n",
       "      <th>18</th>\n",
       "      <td>Tomato Late Blight</td>\n",
       "      <td>0.888889</td>\n",
       "      <td>0.8</td>\n",
       "      <td>0.842105</td>\n",
       "      <td>10</td>\n",
       "    </tr>\n",
       "    <tr>\n",
       "      <th>19</th>\n",
       "      <td>Tomato Leaf Mold</td>\n",
       "      <td>1.000000</td>\n",
       "      <td>1.0</td>\n",
       "      <td>1.000000</td>\n",
       "      <td>10</td>\n",
       "    </tr>\n",
       "    <tr>\n",
       "      <th>20</th>\n",
       "      <td>Tomato Mosaic Virus</td>\n",
       "      <td>1.000000</td>\n",
       "      <td>0.9</td>\n",
       "      <td>0.947368</td>\n",
       "      <td>10</td>\n",
       "    </tr>\n",
       "    <tr>\n",
       "      <th>21</th>\n",
       "      <td>Tomato Septoria Leaf Spot</td>\n",
       "      <td>0.900000</td>\n",
       "      <td>0.9</td>\n",
       "      <td>0.900000</td>\n",
       "      <td>10</td>\n",
       "    </tr>\n",
       "    <tr>\n",
       "      <th>22</th>\n",
       "      <td>Tomato Spider Mites Two-Spotted Spider Mite</td>\n",
       "      <td>1.000000</td>\n",
       "      <td>1.0</td>\n",
       "      <td>1.000000</td>\n",
       "      <td>10</td>\n",
       "    </tr>\n",
       "    <tr>\n",
       "      <th>23</th>\n",
       "      <td>Tomato Target Spot</td>\n",
       "      <td>1.000000</td>\n",
       "      <td>0.9</td>\n",
       "      <td>0.947368</td>\n",
       "      <td>10</td>\n",
       "    </tr>\n",
       "    <tr>\n",
       "      <th>24</th>\n",
       "      <td>Tomato Yellow Leaf Curl Virus</td>\n",
       "      <td>1.000000</td>\n",
       "      <td>1.0</td>\n",
       "      <td>1.000000</td>\n",
       "      <td>10</td>\n",
       "    </tr>\n",
       "  </tbody>\n",
       "</table>\n",
       "</div>"
      ],
      "text/plain": [
       "                                             Class  Precision  Recall  \\\n",
       "0                                  Apple Black Rot   0.909091     1.0   \n",
       "1                           Apple Cedar Apple Rust   1.000000     0.9   \n",
       "2                                    Apple Healthy   1.000000     1.0   \n",
       "3                                       Apple Scab   1.000000     1.0   \n",
       "4   Corn Maize Cercospora Leaf Spot Gray Leaf Spot   1.000000     0.8   \n",
       "5                           Corn Maize Common Rust   1.000000     1.0   \n",
       "6                               Corn Maize Healthy   1.000000     1.0   \n",
       "7                  Corn Maize Northern Leaf Blight   0.833333     1.0   \n",
       "8                                  Grape Black Rot   1.000000     1.0   \n",
       "9                         Grape Esca Black Measles   1.000000     1.0   \n",
       "10                                   Grape Healthy   1.000000     1.0   \n",
       "11          Grape Leaf Blight Isariopsis Leaf Spot   1.000000     1.0   \n",
       "12                             Potato Early Blight   1.000000     1.0   \n",
       "13                                  Potato Healthy   1.000000     1.0   \n",
       "14                              Potato Late Blight   1.000000     1.0   \n",
       "15                           Tomato Bacterial Spot   0.900000     0.9   \n",
       "16                             Tomato Early Blight   0.692308     0.9   \n",
       "17                                  Tomato Healthy   1.000000     1.0   \n",
       "18                              Tomato Late Blight   0.888889     0.8   \n",
       "19                                Tomato Leaf Mold   1.000000     1.0   \n",
       "20                             Tomato Mosaic Virus   1.000000     0.9   \n",
       "21                       Tomato Septoria Leaf Spot   0.900000     0.9   \n",
       "22     Tomato Spider Mites Two-Spotted Spider Mite   1.000000     1.0   \n",
       "23                              Tomato Target Spot   1.000000     0.9   \n",
       "24                   Tomato Yellow Leaf Curl Virus   1.000000     1.0   \n",
       "\n",
       "      Fscore  Support  \n",
       "0   0.952381       10  \n",
       "1   0.947368       10  \n",
       "2   1.000000       10  \n",
       "3   1.000000       10  \n",
       "4   0.888889       10  \n",
       "5   1.000000       10  \n",
       "6   1.000000       10  \n",
       "7   0.909091       10  \n",
       "8   1.000000       10  \n",
       "9   1.000000       10  \n",
       "10  1.000000       10  \n",
       "11  1.000000       10  \n",
       "12  1.000000       10  \n",
       "13  1.000000       10  \n",
       "14  1.000000       10  \n",
       "15  0.900000       10  \n",
       "16  0.782609       10  \n",
       "17  1.000000       10  \n",
       "18  0.842105       10  \n",
       "19  1.000000       10  \n",
       "20  0.947368       10  \n",
       "21  0.900000       10  \n",
       "22  1.000000       10  \n",
       "23  0.947368       10  \n",
       "24  1.000000       10  "
      ]
     },
     "execution_count": 94,
     "metadata": {},
     "output_type": "execute_result"
    }
   ],
   "source": [
    "metrics_table = pd.DataFrame(zip(classes,precision,recall,fscore,support),columns=[\"Class\",\"Precision\",\"Recall\",\"Fscore\",\"Support\"])"
   ]
  },
  {
   "cell_type": "code",
   "execution_count": null,
   "metadata": {},
   "outputs": [],
   "source": []
  },
  {
   "cell_type": "code",
   "execution_count": 95,
   "metadata": {},
   "outputs": [],
   "source": [
    "metrics_table.to_csv(\"test_metrics.csv\",index=False)"
   ]
  },
  {
   "cell_type": "code",
   "execution_count": null,
   "metadata": {},
   "outputs": [],
   "source": []
  }
 ],
 "metadata": {
  "kernelspec": {
   "display_name": "Python 3 (ipykernel)",
   "language": "python",
   "name": "python3"
  },
  "language_info": {
   "codemirror_mode": {
    "name": "ipython",
    "version": 3
   },
   "file_extension": ".py",
   "mimetype": "text/x-python",
   "name": "python",
   "nbconvert_exporter": "python",
   "pygments_lexer": "ipython3",
   "version": "3.10.4"
  }
 },
 "nbformat": 4,
 "nbformat_minor": 4
}
